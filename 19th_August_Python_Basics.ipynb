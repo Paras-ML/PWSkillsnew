{
 "cells": [
  {
   "cell_type": "markdown",
   "id": "9486b7c8-87fe-4c53-9d04-62888745b373",
   "metadata": {},
   "source": [
    "TOPIC: Python Basics Variable"
   ]
  },
  {
   "cell_type": "markdown",
   "id": "f7015611-1496-42ae-8d5b-0904f4bff415",
   "metadata": {},
   "source": [
    "Q1: Declare two variables, `x` and `y`, and assign them integer values. Swap the\n",
    "values of these variables without using any temporary variable."
   ]
  },
  {
   "cell_type": "markdown",
   "id": "0e485b5d-8d25-4ffb-88d6-523d51dda9f8",
   "metadata": {},
   "source": [
    "Solution:"
   ]
  },
  {
   "cell_type": "code",
   "execution_count": 2,
   "id": "4ce7baf6-25a2-4b5b-a541-ab1bc57a3820",
   "metadata": {},
   "outputs": [],
   "source": [
    "x = 5\n",
    "y = 10\n",
    "\n",
    "def swap_variables(x,y):\n",
    "    print(f\"Value before Swap x: {x} and y:{y}\")\n",
    "    x,y=y,x\n",
    "    print(f\"Value before Swap x: {x} and y:{y}\")"
   ]
  },
  {
   "cell_type": "code",
   "execution_count": 3,
   "id": "fa0369e4-346f-43c2-b133-47c6343b06f7",
   "metadata": {},
   "outputs": [
    {
     "name": "stdout",
     "output_type": "stream",
     "text": [
      "Value before Swap x: 10 and y:13\n",
      "Value before Swap x: 13 and y:10\n"
     ]
    }
   ],
   "source": [
    "swap_variables(10,13)"
   ]
  },
  {
   "cell_type": "code",
   "execution_count": null,
   "id": "26df38bb-a0ff-4169-8d11-d43c6289bbb4",
   "metadata": {},
   "outputs": [],
   "source": []
  },
  {
   "cell_type": "markdown",
   "id": "4b49a55d-baff-4a02-994f-572d98e9f4da",
   "metadata": {},
   "source": [
    "Q2: Create a program that calculates the area of a rectangle. Take the length and\n",
    "width as inputs from the user and store them in variables. Calculate and\n",
    "display the area."
   ]
  },
  {
   "cell_type": "markdown",
   "id": "6258e317-e892-489c-8bf2-c92c2705ca61",
   "metadata": {},
   "source": [
    "Solution:"
   ]
  },
  {
   "cell_type": "code",
   "execution_count": 1,
   "id": "1f2192b1-baea-47e2-ab59-a09f785d98b4",
   "metadata": {},
   "outputs": [
    {
     "name": "stdin",
     "output_type": "stream",
     "text": [
      "Enter the length of the rectangle: 54\n",
      "Enter the Width of the rectangle: 23\n"
     ]
    },
    {
     "name": "stdout",
     "output_type": "stream",
     "text": [
      " The Area of rectangle is: 1242.0\n"
     ]
    }
   ],
   "source": [
    "length = float(input(\"Enter the length of the rectangle:\"))\n",
    "width = float(input(\"Enter the Width of the rectangle:\"))\n",
    "\n",
    "area = length * width\n",
    "\n",
    "print(\" The Area of rectangle is:\", area)"
   ]
  },
  {
   "cell_type": "code",
   "execution_count": null,
   "id": "88d5d4e3-5a41-4d75-807b-951718fb7b82",
   "metadata": {},
   "outputs": [],
   "source": []
  },
  {
   "cell_type": "markdown",
   "id": "3c55ac64-5458-41a6-97d3-64764ab0fab0",
   "metadata": {},
   "source": [
    "Q3: Write a Python program that converts temperatures from Celsius to\n",
    "Fahrenheit. Take the temperature in Celsius as input, store it in a variable,\n",
    "convert it to Fahrenheit, and display the result."
   ]
  },
  {
   "cell_type": "markdown",
   "id": "4db72456-ea9e-4add-b74f-8773fc28d207",
   "metadata": {},
   "source": [
    "Solution:"
   ]
  },
  {
   "cell_type": "code",
   "execution_count": 3,
   "id": "20ae9e23-375c-471e-90ef-dc21ea1e0a73",
   "metadata": {},
   "outputs": [
    {
     "name": "stdin",
     "output_type": "stream",
     "text": [
      "Enter the temperature in celcius: 22\n"
     ]
    },
    {
     "name": "stdout",
     "output_type": "stream",
     "text": [
      "22.0 celcius is equal to 71.60 fahrenheit\n"
     ]
    }
   ],
   "source": [
    "celcius = float(input(\"Enter the temperature in celcius:\"))\n",
    "fahrenheit = (celcius * 9/5) + 32\n",
    "print(f\"{celcius} celcius is equal to {fahrenheit:.2f} fahrenheit\")"
   ]
  },
  {
   "cell_type": "code",
   "execution_count": null,
   "id": "f30d4f8c-f538-49a1-80b3-da3c53c68879",
   "metadata": {},
   "outputs": [],
   "source": []
  },
  {
   "cell_type": "code",
   "execution_count": null,
   "id": "fd00b5d1-4746-437e-847b-f7a5b4b087d5",
   "metadata": {},
   "outputs": [],
   "source": []
  },
  {
   "cell_type": "markdown",
   "id": "f2c91f56-5b27-4736-a094-7a15b80dd65f",
   "metadata": {},
   "source": [
    "TOPIC: String Based Questions"
   ]
  },
  {
   "cell_type": "markdown",
   "id": "52803496-0bfc-4349-b84b-a57e9eaf9d75",
   "metadata": {},
   "source": [
    "Q1: Write a Python program that takes a string as input and prints the length of\n",
    "the string."
   ]
  },
  {
   "cell_type": "markdown",
   "id": "336b05e1-86c9-4ad4-a0c0-0dc1f9de5f61",
   "metadata": {},
   "source": [
    "Solution:"
   ]
  },
  {
   "cell_type": "code",
   "execution_count": 4,
   "id": "8f78005b-2a87-4aec-be1c-fdde58ab2178",
   "metadata": {},
   "outputs": [
    {
     "name": "stdin",
     "output_type": "stream",
     "text": [
      "Enter the String: erf\n"
     ]
    },
    {
     "name": "stdout",
     "output_type": "stream",
     "text": [
      "The length of string is: 3\n"
     ]
    }
   ],
   "source": [
    "Input_string = input(\"Enter the String:\")\n",
    "lenght_string = len(Input_string)\n",
    "print(\"The length of string is:\",lenght_string)"
   ]
  },
  {
   "cell_type": "code",
   "execution_count": null,
   "id": "67ae123a-5375-41c0-93e8-fb2af375ffaa",
   "metadata": {},
   "outputs": [],
   "source": []
  },
  {
   "cell_type": "markdown",
   "id": "8825c039-be51-4383-b897-bfcd693781a5",
   "metadata": {},
   "source": [
    "Q2: Create a program that takes a sentence from the user and counts the number\n",
    "of vowels (a, e, i, o, u) in the string."
   ]
  },
  {
   "cell_type": "markdown",
   "id": "2ec6661a-ccb8-4285-9c7d-8486d96c24a3",
   "metadata": {},
   "source": [
    "Solution:"
   ]
  },
  {
   "cell_type": "code",
   "execution_count": 3,
   "id": "712307f2-84a5-4a60-8e8f-bc188372d85b",
   "metadata": {},
   "outputs": [
    {
     "name": "stdin",
     "output_type": "stream",
     "text": [
      "Enter the sentence: Hello I am Peter\n"
     ]
    },
    {
     "name": "stdout",
     "output_type": "stream",
     "text": [
      "Number of vowels in sentence are: 6\n"
     ]
    }
   ],
   "source": [
    "sentence = input(\"Enter the sentence:\")\n",
    "vowel_count = 0\n",
    "\n",
    "for char in sentence:\n",
    "    char_lower = char.lower()\n",
    "    \n",
    "    if char_lower in \"aeiou\":\n",
    "        vowel_count += 1\n",
    "        \n",
    "print(\"Number of vowels in sentence are:\",vowel_count)"
   ]
  },
  {
   "cell_type": "code",
   "execution_count": null,
   "id": "b06a475a-fb21-46a7-b92d-65674c558a5e",
   "metadata": {},
   "outputs": [],
   "source": []
  },
  {
   "cell_type": "markdown",
   "id": "7f062695-02e3-4870-9768-76cd2b27ef00",
   "metadata": {},
   "source": [
    "Q3: Given a string, reverse the order of characters using string slicing and print\n",
    "the reversed string."
   ]
  },
  {
   "cell_type": "markdown",
   "id": "81b6327a-c22b-46ad-b9d9-e0a71c1265db",
   "metadata": {},
   "source": [
    "Solution:"
   ]
  },
  {
   "cell_type": "code",
   "execution_count": 5,
   "id": "b9518e1d-92bb-4eda-b982-6776e8638cb5",
   "metadata": {},
   "outputs": [
    {
     "name": "stdin",
     "output_type": "stream",
     "text": [
      "Enter the String Paras\n"
     ]
    },
    {
     "name": "stdout",
     "output_type": "stream",
     "text": [
      "Reverse string looks like: saraP\n"
     ]
    }
   ],
   "source": [
    "input_String = input(\"Enter the String\")\n",
    "reverse_string = input_String[::-1]\n",
    "print(\"Reverse string looks like:\", reverse_string)"
   ]
  },
  {
   "cell_type": "code",
   "execution_count": null,
   "id": "b93fafd2-fa48-46dd-873b-f19f0b30e5eb",
   "metadata": {},
   "outputs": [],
   "source": []
  },
  {
   "cell_type": "markdown",
   "id": "27c81e7d-9329-4d6d-88b8-82b7bc5139cc",
   "metadata": {},
   "source": [
    "Q4: Write a program that takes a string as input and checks if it is a palindrome\n",
    "(reads the same forwards and backwards)."
   ]
  },
  {
   "cell_type": "markdown",
   "id": "4ca10de0-653a-4839-9035-5510e1ccdf17",
   "metadata": {},
   "source": [
    "Solution:"
   ]
  },
  {
   "cell_type": "code",
   "execution_count": 8,
   "id": "4565b512-7a66-4b2d-9fdf-7afcd6c8a63b",
   "metadata": {},
   "outputs": [
    {
     "name": "stdin",
     "output_type": "stream",
     "text": [
      "Enter the string racecar\n"
     ]
    },
    {
     "name": "stdout",
     "output_type": "stream",
     "text": [
      "The entered string is a palindrome\n"
     ]
    }
   ],
   "source": [
    "input_string = input(\"Enter the string\")\n",
    "clean_string = input_string.replace(\" \",\"\").lower()\n",
    "\n",
    "reverse_string = clean_string[::-1]\n",
    "\n",
    "if clean_string == reverse_string:\n",
    "    print(\"The entered string is a palindrome\")\n",
    "else:\n",
    "    print(\"The entered string is not a palindrome\")"
   ]
  },
  {
   "cell_type": "code",
   "execution_count": null,
   "id": "4ee0e37e-6538-4e3a-b539-b74ae545b03c",
   "metadata": {},
   "outputs": [],
   "source": []
  },
  {
   "cell_type": "markdown",
   "id": "f41cf433-2576-479c-9f9e-67ed16e75d62",
   "metadata": {},
   "source": [
    "Q5. Create a program that takes a string as input and removes all the spaces from\n",
    "it. Print the modified string without spaces."
   ]
  },
  {
   "cell_type": "markdown",
   "id": "cce297da-d254-4f71-8799-ca9d3446f725",
   "metadata": {},
   "source": [
    "Solution"
   ]
  },
  {
   "cell_type": "code",
   "execution_count": 9,
   "id": "57b77f9a-bb62-447d-9049-b2160b65387a",
   "metadata": {},
   "outputs": [
    {
     "name": "stdin",
     "output_type": "stream",
     "text": [
      "Enter the string My name is Paras Sharma\n"
     ]
    },
    {
     "name": "stdout",
     "output_type": "stream",
     "text": [
      "Modified String is: MynameisParasSharma\n"
     ]
    }
   ],
   "source": [
    "input_newString = input(\"Enter the string\")\n",
    "modified_string = \"\"\n",
    "\n",
    "for char in input_newString:\n",
    "    if char != \" \":\n",
    "        modified_string += char\n",
    "        \n",
    "print(\"Modified String is:\" , modified_string)"
   ]
  },
  {
   "cell_type": "code",
   "execution_count": null,
   "id": "1e3f0200-f3fa-4f47-8d76-fc0305287f5a",
   "metadata": {},
   "outputs": [],
   "source": []
  }
 ],
 "metadata": {
  "kernelspec": {
   "display_name": "Python 3 (ipykernel)",
   "language": "python",
   "name": "python3"
  },
  "language_info": {
   "codemirror_mode": {
    "name": "ipython",
    "version": 3
   },
   "file_extension": ".py",
   "mimetype": "text/x-python",
   "name": "python",
   "nbconvert_exporter": "python",
   "pygments_lexer": "ipython3",
   "version": "3.10.8"
  }
 },
 "nbformat": 4,
 "nbformat_minor": 5
}
